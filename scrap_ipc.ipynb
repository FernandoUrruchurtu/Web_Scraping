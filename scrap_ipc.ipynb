{
 "cells": [
  {
   "cell_type": "markdown",
   "metadata": {},
   "source": [
    "# Scrap IPC"
   ]
  },
  {
   "cell_type": "code",
   "execution_count": 8,
   "metadata": {},
   "outputs": [
    {
     "name": "stdout",
     "output_type": "stream",
     "text": [
      "https://www.dane.gov.co/files/operaciones/IPC/anex-IPC-dic2023.xlsx\n"
     ]
    }
   ],
   "source": [
    "import requests as rq\n",
    "from bs4 import BeautifulSoup\n",
    "from lxml import etree\n",
    "\n",
    "resp = rq.get('https://www.dane.gov.co/index.php/estadisticas-por-tema/precios-y-costos/indice-de-precios-al-consumidor-ipc/ipc-informacion-tecnica')\n",
    "soup = BeautifulSoup(resp.content, 'html.parser')\n",
    "x = etree.HTML(str(soup))\n",
    "href_list = x.xpath('//td[@class=\"celda-tabla_docs\"]/a/@href')\n",
    "#https://www.dane.gov.co/files/operaciones/IPC/anex-IPC-dic2023.xlsx\n",
    "xlsx_list = [i for i in href_list if '.xlsx' in i]\n",
    "\n",
    "link = 'https://www.dane.gov.co'+xlsx_list[0]\n",
    "print(link)"
   ]
  },
  {
   "cell_type": "code",
   "execution_count": 2,
   "metadata": {},
   "outputs": [],
   "source": [
    "resp = rq.get('https://www.dane.gov.co/index.php/estadisticas-por-tema/precios-y-costos/indice-de-precios-al-consumidor-ipc/ipc-informacion-tecnica')\n",
    "soup = BeautifulSoup(resp.content, 'html.parser')\n",
    "x = etree.HTML(str(soup))"
   ]
  },
  {
   "cell_type": "code",
   "execution_count": 6,
   "metadata": {},
   "outputs": [
    {
     "data": {
      "text/plain": [
       "['/files/operaciones/IPC/anex-IPC-dic2023.xlsx']"
      ]
     },
     "execution_count": 6,
     "metadata": {},
     "output_type": "execute_result"
    }
   ],
   "source": [
    "href_list = x.xpath('//td[@class=\"celda-tabla_docs\"]/a/@href')\n",
    "#https://www.dane.gov.co/files/operaciones/IPC/anex-IPC-dic2023.xlsx\n",
    "xlsx_list = [i for i in href_list if '.xlsx' in i]\n",
    "xlsx_list"
   ]
  },
  {
   "cell_type": "code",
   "execution_count": null,
   "metadata": {},
   "outputs": [],
   "source": []
  }
 ],
 "metadata": {
  "kernelspec": {
   "display_name": ".venv",
   "language": "python",
   "name": "python3"
  },
  "language_info": {
   "codemirror_mode": {
    "name": "ipython",
    "version": 3
   },
   "file_extension": ".py",
   "mimetype": "text/x-python",
   "name": "python",
   "nbconvert_exporter": "python",
   "pygments_lexer": "ipython3",
   "version": "3.11.0"
  }
 },
 "nbformat": 4,
 "nbformat_minor": 2
}
